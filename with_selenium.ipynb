{
 "cells": [
  {
   "cell_type": "code",
   "execution_count": 1,
   "metadata": {},
   "outputs": [],
   "source": [
    "import pandas as pd\n",
    "from selenium import webdriver\n",
    "from selenium.webdriver.common.by import By\n",
    "from selenium.webdriver.support.ui import WebDriverWait\n",
    "from selenium.webdriver.support import expected_conditions as EC\n",
    "from selenium.webdriver.common.action_chains import ActionChains\n",
    "\n",
    "import numpy as np\n",
    "\n",
    "\n",
    "import mysql.connector\n",
    "import time\n",
    "\n",
    "\n",
    "# pagination\n",
    "# lower_limit = 0\n",
    "# upper_limit = 0\n",
    "# total = 0"
   ]
  },
  {
   "cell_type": "code",
   "execution_count": 2,
   "metadata": {},
   "outputs": [],
   "source": [
    "# driver = webdriver.Chrome('C://Users//Tarak//Downloads//chromedriver.exe')\n",
    "\n",
    "# driver.get('https://new.solaramr.com/Login/Login')"
   ]
  },
  {
   "cell_type": "code",
   "execution_count": 4,
   "metadata": {},
   "outputs": [
    {
     "name": "stdout",
     "output_type": "stream",
     "text": [
      "['047BW001', '02 Dec 2019', '136', '14.53', '17.52', '12/2/2019 3:10:00 PM', '0.45', '3.49', '047BW001', '03 Dec 2019', '122', '13.03', '25.44', '12/3/2019 1:30:00 PM', '0.65', '3.13', '047BW001', '04 Dec 2019', '129', '13.78', '24.9', '12/4/2019 12:00:00 PM', '0.64', '3.31', '047BW001', '05 Dec 2019', '120', '12.82', '21.8', '12/5/2019 12:00:00 PM', '0.56', '3.08', '047BW001', '06 Dec 2019', '131', '14', '22.86', '12/6/2019 12:40:00 PM', '0.59', '3.36', '047BW001', '07 Dec 2019', '125', '13.35', '22.54', '12/7/2019 1:00:00 PM', '0.58', '3.21', '047BW001', '08 Dec 2019', '0', '0', '0', '12/8/2019 5:50:00 PM', '0', '0', '047BW001', '09 Dec 2019', '105', '11.22', '23.88', '12/9/2019 11:50:00 AM', '0.61', '2.69', '047BW001', '10 Dec 2019', '106', '11.32', '23.77', '12/10/2019 12:50:00 PM', '0.61', '2.72', '047BW001', '11 Dec 2019', '95', '10.15', '21.39', '12/11/2019 11:30:00 AM', '0.55', '2.44', '047BW001', '12 Dec 2019', '112', '11.97', '22.42', '12/12/2019 1:00:00 PM', '0.57', '2.87', '047BW001', '13 Dec 2019', '134', '14.32', '26.01', '12/13/2019 2:00:00 PM', '0.67', '3.44', '047BW001', '14 Dec 2019', '120', '12.82', '23.13', '12/14/2019 2:30:00 PM', '0.59', '3.08', '047BW001', '15 Dec 2019', '66', '7.05', '24.28', '12/15/2019 11:50:00 AM', '0.62', '1.69', '047BW001', '16 Dec 2019', '134', '14.32', '25.71', '12/16/2019 12:50:00 PM', '0.66', '3.44', '047BW001', '17 Dec 2019', '88', '9.4', '19.27', '12/17/2019 2:30:00 PM', '0.49', '2.26', '047BW001', '18 Dec 2019', '117', '12.5', '24.2', '12/18/2019 11:40:00 AM', '0.62', '3', '047BW001', '19 Dec 2019', '145', '15.49', '25.69', '12/19/2019 1:10:00 PM', '0.66', '3.72', '047BW001', '20 Dec 2019', '133', '14.21', '24.17', '12/20/2019 12:50:00 PM', '0.62', '3.41', '047BW001', '21 Dec 2019', '79', '8.44', '25.34', '12/21/2019 1:30:00 PM', '0.65', '2.03', '047BW001', '22 Dec 2019', '0', '0', '0', '12/22/2019 5:50:00 PM', '0', '0', '047BW001', '23 Dec 2019', '124', '13.25', '21.78', '12/23/2019 12:50:00 PM', '0.56', '3.18', '047BW001', '24 Dec 2019', '118', '12.61', '22.71', '12/24/2019 1:10:00 PM', '0.58', '3.03', '047BW001', '25 Dec 2019', '56', '5.98', '15.23', '12/25/2019 11:00:00 AM', '0.39', '1.44', '047BW001', '26 Dec 2019', '70', '7.48', '19.77', '12/26/2019 2:10:00 PM', '0.51', '1.79', '047BW001', '27 Dec 2019', '68', '7.26', '24.04', '12/27/2019 1:00:00 PM', '0.62', '1.74', '047BW001', '28 Dec 2019', '66', '7.05', '23.89', '12/28/2019 12:50:00 PM', '0.61', '1.69', '047BW001', '29 Dec 2019', '90', '9.62', '19.46', '12/29/2019 2:30:00 PM', '0.5', '2.31', '047BW001', '30 Dec 2019', '65', '6.94', '25.59', '12/30/2019 1:00:00 PM', '0.66', '1.67', '047BW001', '31 Dec 2019', '63', '6.73', '22.93', '12/31/2019 12:00:00 PM', '0.59', '1.62', '047BW001', '01 Jan 2020', '0', '0', '0', '1/1/2020 6:10:00 PM', '0', '0', '047BW001', '02 Jan 2020', '0', '0', '0', '1/2/2020 6:10:00 PM', '0', '0', '047BW001', '03 Jan 2020', '100', '10.68', '24.79', '1/3/2020 12:30:00 PM', '0.64', '2.56', '047BW001', '04 Jan 2020', '86', '9.19', '24.56', '1/4/2020 11:40:00 AM', '0.63', '2.21', '047BW001', '05 Jan 2020', '77', '8.23', '24.8', '1/5/2020 12:40:00 PM', '0.64', '1.97', '047BW001', '06 Jan 2020', '133', '14.21', '23.68', '1/6/2020 1:00:00 PM', '0.61', '3.41', '047BW001', '07 Jan 2020', '109', '11.65', '24.28', '1/7/2020 2:00:00 PM', '0.62', '2.79', '047BW001', '08 Jan 2020', '0', '0', '0', '1/8/2020 6:10:00 PM', '0', '0', '047BW001', '09 Jan 2020', '75', '8.01', '23.32', '1/9/2020 11:50:00 AM', '0.6', '1.92', '047BW001', '10 Jan 2020', '136', '14.53', '23.15', '1/10/2020 1:00:00 PM', '0.59', '3.49', '047BW001', '11 Jan 2020', '133', '14.21', '22.65', '1/11/2020 12:50:00 PM', '0.58', '3.41', '047BW001', '12 Jan 2020', '124', '13.25', '22.46', '1/12/2020 1:00:00 PM', '0.58', '3.18', '047BW001', '13 Jan 2020', '138', '14.74', '26.59', '1/13/2020 12:50:00 PM', '0.68', '3.54', '047BW001', '14 Jan 2020', '120', '12.82', '24.75', '1/14/2020 1:00:00 PM', '0.63', '3.08', '047BW001', '15 Jan 2020', '132', '14.1', '26.04', '1/15/2020 12:50:00 PM', '0.67', '3.38', '047BW001', '16 Jan 2020', '129', '13.78', '26.57', '1/16/2020 1:10:00 PM', '0.68', '3.31', '047BW001', '17 Jan 2020', '154', '16.45', '26.83', '1/17/2020 1:10:00 PM', '0.69', '3.95', '047BW001', '18 Jan 2020', '151', '16.13', '25.37', '1/18/2020 1:00:00 PM', '0.65', '3.87', '047BW001', '19 Jan 2020', '0', '0', '0', '1/19/2020 6:10:00 PM', '0', '0', '047BW001', '20 Jan 2020', '138', '14.74', '24.35', '1/20/2020 12:50:00 PM', '0.62', '3.54', '047BW001', '21 Jan 2020', '131', '14', '24', '1/21/2020 12:40:00 PM', '0.62', '3.36', '047BW001', '22 Jan 2020', '141', '15.06', '24.59', '1/22/2020 1:00:00 PM', '0.63', '3.62', '047BW001', '23 Jan 2020', '124', '13.25', '24.25', '1/23/2020 12:50:00 PM', '0.62', '3.18', '047BW001', '24 Jan 2020', '138', '14.74', '24.12', '1/24/2020 1:20:00 PM', '0.62', '3.54', '047BW001', '25 Jan 2020', '127', '13.57', '23.51', '1/25/2020 1:30:00 PM', '0.6', '3.26', '047BW001', '26 Jan 2020', '0', '0', '0', '1/26/2020 6:20:00 PM', '0', '0', '047BW001', '27 Jan 2020', '131', '14', '23.14', '1/27/2020 1:20:00 PM', '0.59', '3.36', '047BW001', '28 Jan 2020', '155', '16.56', '27.81', '1/28/2020 2:00:00 PM', '0.71', '3.97', '047BW001', '29 Jan 2020', '177', '18.91', '32.12', '1/29/2020 11:40:00 AM', '0.82', '4.54', '047BW001', '30 Jan 2020', '176', '18.8', '27.75', '1/30/2020 1:10:00 PM', '0.71', '4.51', '047BW001', '31 Jan 2020', '155', '16.56', '27.09', '1/31/2020 12:50:00 PM', '0.69', '3.97']\n"
     ]
    }
   ],
   "source": [
    "data = []\n",
    "count = 1\n",
    "\n",
    "\n",
    "class MysqlScraper(object):\n",
    "    \n",
    "    \n",
    "    \n",
    "    def __init__(self):\n",
    "        self.driver = webdriver.Chrome('C://Users//Tarak//Downloads//chromedriver.exe')\n",
    "\n",
    "    def login(self):\n",
    "        self.driver.get('https://new.solaramr.com/Login/Login')\n",
    "        \n",
    "#         WebDriverWait(self.driver, 10).until(EC.find_element_by_id(\"UserName\")\n",
    "        username = self.driver.find_element_by_id(\"UserName\")                                     \n",
    "        password = self.driver.find_element_by_id(\"Password\")\n",
    "\n",
    "        username.send_keys(\"ssi\")\n",
    "        password.send_keys(\"sheet@123\")\n",
    "        \n",
    "#         self.driver.find_element_by_id(\"submit\")\n",
    "                                                            \n",
    "        self.driver.find_element_by_xpath('/html/body/div/form/div/div/div[2]/div[4]/div/button').click()\n",
    "        \n",
    "        return\n",
    "        \n",
    "\n",
    "    def click_error_logs(self):\n",
    "        \n",
    "        self.driver.implicitly_wait(3)\n",
    "        error_box = WebDriverWait(self.driver, 30).until(EC.element_to_be_clickable((By.XPATH, '//*[@id=\"myModal\"]/div[2]/div/div/button')))\n",
    "        error_box.click()\n",
    "        \n",
    "        return\n",
    "    \n",
    "    def select_dates(self):\n",
    "        \n",
    "        Continue = WebDriverWait(self.driver, 30).until(EC.element_to_be_clickable((By.XPATH, '/html/body/div[1]/nav/div/ul/li[10]/a')))\n",
    "        Continue.click()\n",
    "        \n",
    "        \n",
    "        self.driver.implicitly_wait(3)\n",
    "        date_start = self.driver.find_element_by_id(\"datepicker1\")\n",
    "        date_start.clear()\n",
    "        date_start.send_keys('01/12/2019')\n",
    "        \n",
    "        self.driver.implicitly_wait(3)\n",
    "        date_end  = self.driver.find_element_by_id(\"datepicker2\")\n",
    "        date_end.clear()\n",
    "        date_end.send_keys('31/01/2020')\n",
    "        \n",
    "        self.driver.implicitly_wait(3)\n",
    "        self.driver.find_element_by_id('btnclickk').click()\n",
    "\n",
    "#         error_element = WebDriverWait(self.driver, 20).until(EC.element_to_be_clickable((By.link_text, '/html/body/app-root/app-inject-solar/div/div[2]/div[1]/app-header/div[2]/nav/nav/div/ul/li[6]/a')))\n",
    "#         error_element.click()\n",
    "\n",
    "        return\n",
    "\n",
    "    \n",
    "    \n",
    "    \n",
    "    def pagination(self):\n",
    "         \n",
    "        \n",
    "        try:\n",
    "            page_num = WebDriverWait(self.driver, 30).until(EC.element_to_be_clickable((By.XPATH, '//*[@id=\"table_i_paginate\"]/span/a[7]')))\n",
    "            page_num_total = page_num.text\n",
    "            \n",
    "        except:\n",
    "            page_num = WebDriverWait(self.driver, 30).until(EC.element_to_be_clickable((By.XPATH, '//*[@id=\"table_i_paginate\"]/span/a[6]')))\n",
    "            page_num_total = page_num.text\n",
    "        \n",
    "        return int(page_num_total)\n",
    "        \n",
    "    \n",
    "    \n",
    "\n",
    "    def get_table(self, page_num_total):\n",
    "        \n",
    "        global count\n",
    "        \n",
    "        self.driver.implicitly_wait(5)\n",
    "        \n",
    "        table_element = self.driver.find_element_by_xpath('//*[@id=\"table_i\"]/tbody')\n",
    "        rows = table_element.find_elements_by_tag_name(\"tr\")\n",
    "        \n",
    "        \n",
    "        for rnum in range(0, len(rows)):\n",
    "            \n",
    "            columns = rows[rnum].find_elements_by_tag_name(\"td\")\n",
    "            \n",
    "            rnum += 1\n",
    "            \n",
    "            for cnum in range(0, len(columns)):\n",
    "#                 print(columns[cnum].text)\n",
    "                data.append(columns[cnum].text)\n",
    "                cnum += 1\n",
    "#         self.driver.implicitly_wait(5)\n",
    "        \n",
    "        \n",
    "        \n",
    "        next_page = WebDriverWait(self.driver, 5).until(EC.element_to_be_clickable((By.XPATH, '/html/body/div[1]/div/div/div/div/div[4]/div/div/div/div/div/div[4]/a[2]')))\n",
    "        next_page.click()\n",
    "        count = count + 1\n",
    "            \n",
    "        return\n",
    "    \n",
    "    def close_window(self):\n",
    "        self.driver.quit()\n",
    "        return\n",
    "\n",
    "\n",
    "test = MysqlScraper()\n",
    "test.login()\n",
    "test.click_error_logs()\n",
    "test.select_dates()\n",
    "page_num = int(test.pagination())\n",
    "\n",
    "while count < page_num:\n",
    "    test.get_table(page_num)\n",
    "test.get_table(page_num)\n",
    "test.close_window()\n",
    "    \n",
    "# print(page_num_total)\n",
    "print(data)"
   ]
  },
  {
   "cell_type": "code",
   "execution_count": 5,
   "metadata": {},
   "outputs": [
    {
     "name": "stdout",
     "output_type": "stream",
     "text": [
      "61.0\n"
     ]
    }
   ],
   "source": [
    "print(len(data)/8)"
   ]
  },
  {
   "cell_type": "code",
   "execution_count": 6,
   "metadata": {},
   "outputs": [
    {
     "name": "stdout",
     "output_type": "stream",
     "text": [
      "(61, 8)\n"
     ]
    }
   ],
   "source": [
    "np_array = np.array(data)\n",
    "\n",
    "reshaped = np.array(np.array_split(np_array, len(data)/8))\n",
    "\n",
    "print(reshaped.shape)\n",
    "\n",
    "dataframe = pd.DataFrame(reshaped)\n",
    "# print(dataframe)\n"
   ]
  },
  {
   "cell_type": "code",
   "execution_count": 7,
   "metadata": {},
   "outputs": [
    {
     "name": "stdout",
     "output_type": "stream",
     "text": [
      "<mysql.connector.connection_cext.CMySQLConnection object at 0x000001D39A314668>\n"
     ]
    }
   ],
   "source": [
    "MysqlDb = mysql.connector.connect(host=\"127.0.0.1\", port=5500, user='root', passwd='yourMysqlPasswordhere' )\n",
    "print(MysqlDb)\n",
    "\n",
    "MysqlCursor = MysqlDb.cursor()"
   ]
  },
  {
   "cell_type": "code",
   "execution_count": 11,
   "metadata": {},
   "outputs": [],
   "source": [
    "# Create database\n",
    "#  Run only once\n",
    "\n",
    "# MysqlCursor.execute(\"Create database solaramrdb\")"
   ]
  },
  {
   "cell_type": "code",
   "execution_count": 12,
   "metadata": {},
   "outputs": [
    {
     "name": "stdout",
     "output_type": "stream",
     "text": [
      "('information_schema',)\n",
      "('mysql',)\n",
      "('performance_schema',)\n",
      "('sakila',)\n",
      "('solaramrdb',)\n",
      "('sys',)\n",
      "('world',)\n"
     ]
    }
   ],
   "source": [
    "# show all databases\n",
    "\n",
    "# MysqlCursor.execute(\"Show databases\")\n",
    "# for db in MysqlCursor:\n",
    "#     print(db)"
   ]
  },
  {
   "cell_type": "code",
   "execution_count": 27,
   "metadata": {},
   "outputs": [
    {
     "name": "stdout",
     "output_type": "stream",
     "text": [
      "<mysql.connector.connection_cext.CMySQLConnection object at 0x000001CCEDC4AFD0>\n"
     ]
    }
   ],
   "source": [
    "# # Select db and create a table\n",
    "#  Run only once\n",
    "\n",
    "\n",
    "# MysqlDb = mysql.connector.connect(host=\"127.0.0.1\", port=5500, user='root', passwd='yourMysqlPasswordhere', database = 'SolarAmrDb')\n",
    "# print(MysqlDb)\n",
    "\n",
    "# MysqlCursor = MysqlDb.cursor()\n",
    "\n",
    "# MysqlCursor.execute(\"CREATE TABLE solarvalues(ID VARCHAR(8) NOT NULL, Date VARCHAR(28) NOT NULL, `Total Generation[kWh]` FLOAT(20), CUF FLOAT(20), `Peak Generation[kW]` FLOAT(20), `DateTime [MD]` VARCHAR(25), `Specific Power` FLOAT(20), `Specific Yield` FLOAT(20))\")\n"
   ]
  },
  {
   "cell_type": "code",
   "execution_count": 8,
   "metadata": {},
   "outputs": [],
   "source": [
    "# dataframe.to_sql('solarvalues', MysqlDb, if_exists='replace')\n",
    "\n",
    "for index, row_val in dataframe.iterrows():\n",
    "    add_data = \"\"\"INSERT INTO solarvalues\n",
    "                (ID, DATE, `Total Generation[kWh]`, CUF, `Peak Generation[kW]`, `DateTime [MD]`, `Specific Power`, `Specific Yield`) \n",
    "              VALUES (%s, %s, %s, %s, %s, %s, %s, %s)\"\"\"\n",
    "    \n",
    "    column_vals = (row_val[0], row_val[1], row_val[2], row_val[3], row_val[4], row_val[5], row_val[6], row_val[7])\n",
    "    MysqlDb = mysql.connector.connect(host=\"127.0.0.1\", port=5500, user='root', passwd='yourMysqlPasswordhere', database = 'SolarAmrdb')\n",
    "\n",
    "    cursor_c = MysqlDb.cursor()\n",
    "    cursor_c.execute(add_data, column_vals)\n",
    "    MysqlDb.commit()\n",
    "    cursor_c.close()\n",
    "    MysqlDb.close()"
   ]
  },
  {
   "cell_type": "code",
   "execution_count": 9,
   "metadata": {},
   "outputs": [
    {
     "name": "stdout",
     "output_type": "stream",
     "text": [
      "<mysql.connector.connection_cext.CMySQLConnection object at 0x000001D39A314048>\n",
      "CMySQLCursor: (Nothing executed yet)\n",
      "[('047BW001', '02 Dec 2019', 136.0, 14.53, 17.52, '12/2/2019 3:10:00 PM', 0.45, 3.49), ('047BW001', '03 Dec 2019', 122.0, 13.03, 25.44, '12/3/2019 1:30:00 PM', 0.65, 3.13), ('047BW001', '04 Dec 2019', 129.0, 13.78, 24.9, '12/4/2019 12:00:00 PM', 0.64, 3.31), ('047BW001', '05 Dec 2019', 120.0, 12.82, 21.8, '12/5/2019 12:00:00 PM', 0.56, 3.08), ('047BW001', '06 Dec 2019', 131.0, 14.0, 22.86, '12/6/2019 12:40:00 PM', 0.59, 3.36), ('047BW001', '07 Dec 2019', 125.0, 13.35, 22.54, '12/7/2019 1:00:00 PM', 0.58, 3.21), ('047BW001', '08 Dec 2019', 0.0, 0.0, 0.0, '12/8/2019 5:50:00 PM', 0.0, 0.0), ('047BW001', '09 Dec 2019', 105.0, 11.22, 23.88, '12/9/2019 11:50:00 AM', 0.61, 2.69), ('047BW001', '10 Dec 2019', 106.0, 11.32, 23.77, '12/10/2019 12:50:00 PM', 0.61, 2.72), ('047BW001', '11 Dec 2019', 95.0, 10.15, 21.39, '12/11/2019 11:30:00 AM', 0.55, 2.44), ('047BW001', '12 Dec 2019', 112.0, 11.97, 22.42, '12/12/2019 1:00:00 PM', 0.57, 2.87), ('047BW001', '13 Dec 2019', 134.0, 14.32, 26.01, '12/13/2019 2:00:00 PM', 0.67, 3.44), ('047BW001', '14 Dec 2019', 120.0, 12.82, 23.13, '12/14/2019 2:30:00 PM', 0.59, 3.08), ('047BW001', '15 Dec 2019', 66.0, 7.05, 24.28, '12/15/2019 11:50:00 AM', 0.62, 1.69), ('047BW001', '16 Dec 2019', 134.0, 14.32, 25.71, '12/16/2019 12:50:00 PM', 0.66, 3.44), ('047BW001', '17 Dec 2019', 88.0, 9.4, 19.27, '12/17/2019 2:30:00 PM', 0.49, 2.26), ('047BW001', '18 Dec 2019', 117.0, 12.5, 24.2, '12/18/2019 11:40:00 AM', 0.62, 3.0), ('047BW001', '19 Dec 2019', 145.0, 15.49, 25.69, '12/19/2019 1:10:00 PM', 0.66, 3.72), ('047BW001', '20 Dec 2019', 133.0, 14.21, 24.17, '12/20/2019 12:50:00 PM', 0.62, 3.41), ('047BW001', '21 Dec 2019', 79.0, 8.44, 25.34, '12/21/2019 1:30:00 PM', 0.65, 2.03), ('047BW001', '22 Dec 2019', 0.0, 0.0, 0.0, '12/22/2019 5:50:00 PM', 0.0, 0.0), ('047BW001', '23 Dec 2019', 124.0, 13.25, 21.78, '12/23/2019 12:50:00 PM', 0.56, 3.18), ('047BW001', '24 Dec 2019', 118.0, 12.61, 22.71, '12/24/2019 1:10:00 PM', 0.58, 3.03), ('047BW001', '25 Dec 2019', 56.0, 5.98, 15.23, '12/25/2019 11:00:00 AM', 0.39, 1.44), ('047BW001', '26 Dec 2019', 70.0, 7.48, 19.77, '12/26/2019 2:10:00 PM', 0.51, 1.79), ('047BW001', '27 Dec 2019', 68.0, 7.26, 24.04, '12/27/2019 1:00:00 PM', 0.62, 1.74), ('047BW001', '28 Dec 2019', 66.0, 7.05, 23.89, '12/28/2019 12:50:00 PM', 0.61, 1.69), ('047BW001', '29 Dec 2019', 90.0, 9.62, 19.46, '12/29/2019 2:30:00 PM', 0.5, 2.31), ('047BW001', '30 Dec 2019', 65.0, 6.94, 25.59, '12/30/2019 1:00:00 PM', 0.66, 1.67), ('047BW001', '31 Dec 2019', 63.0, 6.73, 22.93, '12/31/2019 12:00:00 PM', 0.59, 1.62), ('047BW001', '01 Jan 2020', 0.0, 0.0, 0.0, '1/1/2020 6:10:00 PM', 0.0, 0.0), ('047BW001', '02 Jan 2020', 0.0, 0.0, 0.0, '1/2/2020 6:10:00 PM', 0.0, 0.0), ('047BW001', '03 Jan 2020', 100.0, 10.68, 24.79, '1/3/2020 12:30:00 PM', 0.64, 2.56), ('047BW001', '04 Jan 2020', 86.0, 9.19, 24.56, '1/4/2020 11:40:00 AM', 0.63, 2.21), ('047BW001', '05 Jan 2020', 77.0, 8.23, 24.8, '1/5/2020 12:40:00 PM', 0.64, 1.97), ('047BW001', '06 Jan 2020', 133.0, 14.21, 23.68, '1/6/2020 1:00:00 PM', 0.61, 3.41), ('047BW001', '07 Jan 2020', 109.0, 11.65, 24.28, '1/7/2020 2:00:00 PM', 0.62, 2.79), ('047BW001', '08 Jan 2020', 0.0, 0.0, 0.0, '1/8/2020 6:10:00 PM', 0.0, 0.0), ('047BW001', '09 Jan 2020', 75.0, 8.01, 23.32, '1/9/2020 11:50:00 AM', 0.6, 1.92), ('047BW001', '10 Jan 2020', 136.0, 14.53, 23.15, '1/10/2020 1:00:00 PM', 0.59, 3.49), ('047BW001', '11 Jan 2020', 133.0, 14.21, 22.65, '1/11/2020 12:50:00 PM', 0.58, 3.41), ('047BW001', '12 Jan 2020', 124.0, 13.25, 22.46, '1/12/2020 1:00:00 PM', 0.58, 3.18), ('047BW001', '13 Jan 2020', 138.0, 14.74, 26.59, '1/13/2020 12:50:00 PM', 0.68, 3.54), ('047BW001', '14 Jan 2020', 120.0, 12.82, 24.75, '1/14/2020 1:00:00 PM', 0.63, 3.08), ('047BW001', '15 Jan 2020', 132.0, 14.1, 26.04, '1/15/2020 12:50:00 PM', 0.67, 3.38), ('047BW001', '16 Jan 2020', 129.0, 13.78, 26.57, '1/16/2020 1:10:00 PM', 0.68, 3.31), ('047BW001', '17 Jan 2020', 154.0, 16.45, 26.83, '1/17/2020 1:10:00 PM', 0.69, 3.95), ('047BW001', '18 Jan 2020', 151.0, 16.13, 25.37, '1/18/2020 1:00:00 PM', 0.65, 3.87), ('047BW001', '19 Jan 2020', 0.0, 0.0, 0.0, '1/19/2020 6:10:00 PM', 0.0, 0.0), ('047BW001', '20 Jan 2020', 138.0, 14.74, 24.35, '1/20/2020 12:50:00 PM', 0.62, 3.54), ('047BW001', '21 Jan 2020', 131.0, 14.0, 24.0, '1/21/2020 12:40:00 PM', 0.62, 3.36), ('047BW001', '22 Jan 2020', 141.0, 15.06, 24.59, '1/22/2020 1:00:00 PM', 0.63, 3.62), ('047BW001', '23 Jan 2020', 124.0, 13.25, 24.25, '1/23/2020 12:50:00 PM', 0.62, 3.18), ('047BW001', '24 Jan 2020', 138.0, 14.74, 24.12, '1/24/2020 1:20:00 PM', 0.62, 3.54), ('047BW001', '25 Jan 2020', 127.0, 13.57, 23.51, '1/25/2020 1:30:00 PM', 0.6, 3.26), ('047BW001', '26 Jan 2020', 0.0, 0.0, 0.0, '1/26/2020 6:20:00 PM', 0.0, 0.0), ('047BW001', '27 Jan 2020', 131.0, 14.0, 23.14, '1/27/2020 1:20:00 PM', 0.59, 3.36), ('047BW001', '28 Jan 2020', 155.0, 16.56, 27.81, '1/28/2020 2:00:00 PM', 0.71, 3.97), ('047BW001', '29 Jan 2020', 177.0, 18.91, 32.12, '1/29/2020 11:40:00 AM', 0.82, 4.54), ('047BW001', '30 Jan 2020', 176.0, 18.8, 27.75, '1/30/2020 1:10:00 PM', 0.71, 4.51), ('047BW001', '31 Jan 2020', 155.0, 16.56, 27.09, '1/31/2020 12:50:00 PM', 0.69, 3.97)]\n"
     ]
    }
   ],
   "source": [
    "MysqlDb = mysql.connector.connect(host=\"127.0.0.1\", port=5500, user='root', passwd='yourMysqlPasswordhere', database = 'SolarAmrdb')\n",
    "print(MysqlDb)\n",
    "cursor = MysqlDb.cursor()\n",
    "print(cursor)\n",
    "\n",
    "cursor.execute(\"\"\"SELECT * FROM solarvalues\"\"\")\n",
    "\n",
    "result = cursor.fetchall()\n",
    "\n",
    "print(result)"
   ]
  },
  {
   "cell_type": "code",
   "execution_count": null,
   "metadata": {},
   "outputs": [],
   "source": []
  }
 ],
 "metadata": {
  "kernelspec": {
   "display_name": "Python 3",
   "language": "python",
   "name": "python3"
  },
  "language_info": {
   "codemirror_mode": {
    "name": "ipython",
    "version": 3
   },
   "file_extension": ".py",
   "mimetype": "text/x-python",
   "name": "python",
   "nbconvert_exporter": "python",
   "pygments_lexer": "ipython3",
   "version": "3.7.1"
  }
 },
 "nbformat": 4,
 "nbformat_minor": 2
}
